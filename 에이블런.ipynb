{
  "nbformat": 4,
  "nbformat_minor": 0,
  "metadata": {
    "colab": {
      "provenance": [],
      "gpuType": "V28",
      "authorship_tag": "ABX9TyMtcHJDTYhC7bXu6dmtcR5I",
      "include_colab_link": true
    },
    "kernelspec": {
      "name": "python3",
      "display_name": "Python 3"
    },
    "language_info": {
      "name": "python"
    },
    "accelerator": "TPU"
  },
  "cells": [
    {
      "cell_type": "markdown",
      "metadata": {
        "id": "view-in-github",
        "colab_type": "text"
      },
      "source": [
        "<a href=\"https://colab.research.google.com/github/yoonjh25/HTML-CSS/blob/main/%EC%97%90%EC%9D%B4%EB%B8%94%EB%9F%B0.ipynb\" target=\"_parent\"><img src=\"https://colab.research.google.com/assets/colab-badge.svg\" alt=\"Open In Colab\"/></a>"
      ]
    },
    {
      "cell_type": "code",
      "source": [
        "from google.colab import drive\n",
        "drive.mount('/content/drive')\n"
      ],
      "metadata": {
        "colab": {
          "base_uri": "https://localhost:8080/"
        },
        "id": "TXhdjOw0Jl5v",
        "outputId": "753626e6-d0a1-4377-dd56-519f081796e1"
      },
      "execution_count": 1,
      "outputs": [
        {
          "output_type": "stream",
          "name": "stdout",
          "text": [
            "Mounted at /content/drive\n"
          ]
        }
      ]
    },
    {
      "cell_type": "code",
      "source": [
        "file_path = '/content/drive/My Drive/Colab Notebooks/archive'"
      ],
      "metadata": {
        "id": "EoEVISH6rzqH"
      },
      "execution_count": 2,
      "outputs": []
    },
    {
      "cell_type": "code",
      "execution_count": 3,
      "metadata": {
        "colab": {
          "base_uri": "https://localhost:8080/",
          "height": 394
        },
        "id": "L7LkrMi5IHAr",
        "outputId": "a49cc72c-d260-4f96-a9c8-fee19da0a531"
      },
      "outputs": [
        {
          "output_type": "error",
          "ename": "ModuleNotFoundError",
          "evalue": "No module named 'data_loader'",
          "traceback": [
            "\u001b[0;31m---------------------------------------------------------------------------\u001b[0m",
            "\u001b[0;31mModuleNotFoundError\u001b[0m                       Traceback (most recent call last)",
            "\u001b[0;32m<ipython-input-3-b752debed1e7>\u001b[0m in \u001b[0;36m<cell line: 2>\u001b[0;34m()\u001b[0m\n\u001b[1;32m      1\u001b[0m \u001b[0;32mimport\u001b[0m \u001b[0mos\u001b[0m  \u001b[0;31m# os 모듈을 import하여 파일 시스템 작업을 지원\u001b[0m\u001b[0;34m\u001b[0m\u001b[0;34m\u001b[0m\u001b[0m\n\u001b[0;32m----> 2\u001b[0;31m \u001b[0;32mfrom\u001b[0m \u001b[0mdata_loader\u001b[0m \u001b[0;32mimport\u001b[0m \u001b[0mload_data\u001b[0m\u001b[0;34m\u001b[0m\u001b[0;34m\u001b[0m\u001b[0m\n\u001b[0m\u001b[1;32m      3\u001b[0m \u001b[0;32mfrom\u001b[0m \u001b[0mmodel\u001b[0m \u001b[0;32mimport\u001b[0m \u001b[0mcreate_model\u001b[0m\u001b[0;34m\u001b[0m\u001b[0;34m\u001b[0m\u001b[0m\n\u001b[1;32m      4\u001b[0m \u001b[0;32mfrom\u001b[0m \u001b[0mtrain\u001b[0m \u001b[0;32mimport\u001b[0m \u001b[0mtrain_model\u001b[0m\u001b[0;34m\u001b[0m\u001b[0;34m\u001b[0m\u001b[0m\n\u001b[1;32m      5\u001b[0m \u001b[0;32mfrom\u001b[0m \u001b[0mevaluate\u001b[0m \u001b[0;32mimport\u001b[0m \u001b[0mevaluate_model\u001b[0m\u001b[0;34m,\u001b[0m \u001b[0mplot_history\u001b[0m\u001b[0;34m\u001b[0m\u001b[0;34m\u001b[0m\u001b[0m\n",
            "\u001b[0;31mModuleNotFoundError\u001b[0m: No module named 'data_loader'",
            "",
            "\u001b[0;31m---------------------------------------------------------------------------\u001b[0;32m\nNOTE: If your import is failing due to a missing package, you can\nmanually install dependencies using either !pip or !apt.\n\nTo view examples of installing some common dependencies, click the\n\"Open Examples\" button below.\n\u001b[0;31m---------------------------------------------------------------------------\u001b[0m\n"
          ],
          "errorDetails": {
            "actions": [
              {
                "action": "open_url",
                "actionText": "Open Examples",
                "url": "/notebooks/snippets/importing_libraries.ipynb"
              }
            ]
          }
        }
      ],
      "source": [
        "import os  # os 모듈을 import하여 파일 시스템 작업을 지원\n",
        "from data_loader import load_data\n",
        "from model import create_model\n",
        "from train import train_model\n",
        "from evaluate import evaluate_model, plot_history\n",
        "\n",
        "# 데이터 경로 설정 (train 폴더 경로)\n",
        "data_dir = r\"C:\\Users\\ChoiMinkyo\\PycharmProjects\\Ablelearn\\train\"\n",
        "\n",
        "# 데이터 로드 및 전처리\n",
        "print(\"Starting data loading...\")\n",
        "X_train, X_test, y_train, y_test = load_data(data_dir)\n",
        "print(\"Data loaded successfully.\")\n",
        "\n",
        "# 모델 정의\n",
        "print(\"Creating model...\")\n",
        "input_shape = (224, 224, 3)\n",
        "num_classes = len(os.listdir(data_dir))  # 각 차종 폴더의 수를 클래스 수로 사용\n",
        "model = create_model(input_shape, num_classes)\n",
        "print(\"Model created successfully.\")\n",
        "\n",
        "# 모델 학습\n",
        "print(\"Starting model training...\")\n",
        "history = train_model(model, X_train, y_train, X_test, y_test)\n",
        "print(\"Model training completed.\")\n",
        "\n",
        "# 모델 평가\n",
        "print(\"Evaluating model...\")\n",
        "evaluate_model(model, X_test, y_test)\n",
        "print(\"Evaluation completed.\")\n",
        "\n",
        "# 학습 과정 시각화\n",
        "plot_history(history)\n"
      ]
    },
    {
      "cell_type": "code",
      "source": [
        "!pip install data_loader\n",
        "\n"
      ],
      "metadata": {
        "colab": {
          "base_uri": "https://localhost:8080/"
        },
        "id": "ibzJ1Qv0tZwH",
        "outputId": "b3033ae1-78af-4628-f244-86fe8e6f3e86"
      },
      "execution_count": 5,
      "outputs": [
        {
          "output_type": "stream",
          "name": "stdout",
          "text": [
            "\u001b[31mERROR: Could not find a version that satisfies the requirement data_loader (from versions: none)\u001b[0m\u001b[31m\n",
            "\u001b[0m\u001b[31mERROR: No matching distribution found for data_loader\u001b[0m\u001b[31m\n",
            "\u001b[0m"
          ]
        }
      ]
    }
  ]
}